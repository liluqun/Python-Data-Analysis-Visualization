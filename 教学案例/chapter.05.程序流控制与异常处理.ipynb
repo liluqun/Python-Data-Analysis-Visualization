{
 "cells": [
  {
   "cell_type": "code",
   "execution_count": null,
   "outputs": [],
   "source": [
    "s='(A) gre (B) Toefl (C) PETS (D) HK [B]'\n",
    "import re\n",
    "result=re.findall('\\s*\\([A-E]\\)\\s*(\\w*)\\s?',s)\n",
    "result"
   ],
   "metadata": {
    "collapsed": false
   }
  },
  {
   "cell_type": "markdown",
   "source": [
    "输入0~100任意成绩数据，通过if语句判断成绩的等级。"
   ],
   "metadata": {
    "collapsed": false
   }
  },
  {
   "cell_type": "code",
   "execution_count": null,
   "outputs": [],
   "source": [
    "num = int(input('请输入分数：'))\n",
    "if  0<= num < 60:    # 判断值是否在0~60之间\n",
    "    print ('挂科！')\n",
    "elif 60<=num<70:    # 判断值是否在60~70之间\n",
    "    print ('及格')\n",
    "elif 70<=num<80:    # 判断值是否在70~80之间\n",
    "    print ('中')\n",
    "elif 80<=num<90:    # 判断值是否在80~90之间\n",
    "    print ('良好')\n",
    "elif 80<=num<=100:    # 判断值是否在90~100之间\n",
    "    print ('优秀')\n",
    "else:\n",
    "    print ('输入有误！')"
   ],
   "metadata": {
    "collapsed": false
   }
  },
  {
   "cell_type": "code",
   "execution_count": null,
   "outputs": [],
   "source": [
    "x=float(input('input your mark:'))\n",
    "result='及格了' if x>=60 else '不及格'\n",
    "print(result)"
   ],
   "metadata": {
    "collapsed": false
   }
  },
  {
   "cell_type": "code",
   "execution_count": null,
   "outputs": [],
   "source": [
    "m=90\n",
    "grade=['不及格','及格','中','良','优秀']\n",
    "line=[m>60,m>=70,m>=80,m>=90]\n",
    "result=grade[sum(line)]\n",
    "result"
   ],
   "metadata": {
    "collapsed": false
   }
  },
  {
   "cell_type": "code",
   "execution_count": null,
   "outputs": [],
   "source": [
    "# 用while循环，必须有一控制逻辑条件\n",
    "count=0\n",
    "while count<3:\n",
    "    # 循环就是重复执行循环体里面的代码\n",
    "    print(f'Round.{count} test!')\n",
    "    count+=1"
   ],
   "metadata": {
    "collapsed": false
   }
  },
  {
   "cell_type": "code",
   "execution_count": null,
   "outputs": [],
   "source": [
    "cities = [\"北京\", \"上海\", \"广州\", \"天津\"]\n",
    "for city in cities:\n",
    "    print(f\"我来逛{city}\")\n",
    "else:\n",
    "    print(\"没有循环数据!\")\n",
    "print(\"完成循环!\")\n"
   ],
   "metadata": {
    "collapsed": false
   }
  },
  {
   "cell_type": "code",
   "execution_count": null,
   "outputs": [],
   "source": [
    "x = int(input(\"输入性别（0，1）: \"))\n",
    "match x:\n",
    "    case 0:\n",
    "        print('female')\n",
    "    case 1:\n",
    "        print('male')\n",
    "    case _:\n",
    "        print(\"输入错误\")"
   ],
   "metadata": {
    "collapsed": false
   }
  },
  {
   "cell_type": "code",
   "execution_count": null,
   "outputs": [],
   "source": [
    "t = [1.0, 2, (3, 3, 3),(3,9,9),[4, 4, 4], {'5': 'ok', '55': 'good'}, '6', {7, 8, 9}]\n",
    "\n",
    "for x in t:\n",
    "    match x:\n",
    "        case 1.0:\n",
    "            print(f'匹配类型{type(x)},得到：星期一')\n",
    "        case 2:\n",
    "            print(f'匹配类型{type(x)},得到：星期二')\n",
    "        case (3, _, _):\n",
    "            print(f'匹配类型{type(x)},得到：星期三')\n",
    "        case [4, 4, _]:\n",
    "            print(f'匹配类型{type(x)},得到：星期四')\n",
    "        case {'5': 'ok', '55': 'good'}:\n",
    "            print(f'匹配类型{type(x)},得到：星期五')\n",
    "        case '6':\n",
    "            print(f'匹配类型{type(x)},得到：星期六')\n",
    "        case _:\n",
    "            print(\"输入错误\")"
   ],
   "metadata": {
    "collapsed": false
   }
  },
  {
   "cell_type": "code",
   "execution_count": null,
   "outputs": [],
   "source": [
    "x = int(input(\"输入(1~7)数值: \"))\n",
    "match x:\n",
    "    case 1 | 2 | 3 | 4 | 5:\n",
    "        print('工作日')\n",
    "    case 6 | 7:\n",
    "        print('周末')\n",
    "    case _:\n",
    "        print(\"输入错误\")"
   ],
   "metadata": {
    "collapsed": false
   }
  },
  {
   "cell_type": "code",
   "execution_count": null,
   "outputs": [],
   "source": [
    "x=[1,2,3,4,5]\n",
    "match x:\n",
    "    case [1,*other]:\n",
    "        print(f'{other=}')\n",
    "    case _:\n",
    "        print(\"未匹配\")"
   ],
   "metadata": {
    "collapsed": false
   }
  },
  {
   "cell_type": "code",
   "execution_count": null,
   "outputs": [],
   "source": [
    "x={1: \"星期一\", 2: \"星期二\",3:'星期三'}\n",
    "match x:\n",
    "    case {2: \"星期二\", **other}:\n",
    "        print(f'{other=}')\n",
    "    case _:\n",
    "        print('未匹配')"
   ],
   "metadata": {
    "collapsed": false
   }
  },
  {
   "cell_type": "code",
   "execution_count": null,
   "outputs": [],
   "source": [
    "game = '12345'\n",
    "for round in game:\n",
    "    if round == '3':\n",
    "        continue #放弃第3局\n",
    "    print(round,end=\" \")\n",
    "#运行结果：1,2,4,5,"
   ],
   "metadata": {
    "collapsed": false
   }
  },
  {
   "cell_type": "code",
   "execution_count": null,
   "outputs": [],
   "source": [
    "#break，跳出循环\n",
    "for round in game:\n",
    "    if round == '3':\n",
    "        break   #从3局就不玩了\n",
    "    print(round,end=\" \")\n",
    "#运行结果：1, 2,"
   ],
   "metadata": {
    "collapsed": false
   }
  },
  {
   "cell_type": "code",
   "execution_count": null,
   "outputs": [],
   "source": [
    "for round in game:\n",
    "    pass"
   ],
   "metadata": {
    "collapsed": false
   }
  },
  {
   "cell_type": "code",
   "execution_count": null,
   "outputs": [],
   "source": [
    "for round in game:\n",
    "    ..."
   ],
   "metadata": {
    "collapsed": false
   }
  },
  {
   "cell_type": "code",
   "execution_count": null,
   "outputs": [],
   "source": [
    "for round in game:\n",
    "    \"可以使用任意字符串作为占位符\""
   ],
   "metadata": {
    "collapsed": false
   }
  },
  {
   "cell_type": "code",
   "execution_count": null,
   "outputs": [],
   "source": [
    "for round in game:\n",
    "    Ellipsis"
   ],
   "metadata": {
    "collapsed": false
   }
  },
  {
   "cell_type": "code",
   "execution_count": null,
   "outputs": [],
   "source": [
    "num=input('please input the number?')\n",
    "for i in range(int(num)):\n",
    "    print(i)"
   ],
   "metadata": {
    "collapsed": false
   }
  },
  {
   "cell_type": "code",
   "execution_count": null,
   "outputs": [],
   "source": [
    "for i in range(3):\n",
    "    try:\n",
    "        mark=input(f'{i}.请输入成绩（0~100）?')\n",
    "        print('及格了')  if float(mark)>=60 else print('不及格')\n",
    "    except ValueError as arg:\n",
    "        print(f'{arg.args}:输入成绩有误，重来！！')\n",
    "    finally:\n",
    "        print('无论有无异常，我都执行！！')"
   ],
   "metadata": {
    "collapsed": false
   }
  },
  {
   "cell_type": "code",
   "execution_count": null,
   "outputs": [],
   "source": [
    "try:\n",
    "    mark=input('input x:')\n",
    "    if float(mark) < 0 or float(mark) > 100:\n",
    "        raise ValueError('成绩输入异常')\n",
    "except ValueError as arg:\n",
    "    print(arg.args)"
   ],
   "metadata": {
    "collapsed": false
   }
  },
  {
   "cell_type": "code",
   "execution_count": null,
   "outputs": [],
   "source": [
    "assert 1==1"
   ],
   "metadata": {
    "collapsed": false
   }
  },
  {
   "cell_type": "code",
   "execution_count": null,
   "outputs": [],
   "source": [
    "assert 1==0"
   ],
   "metadata": {
    "collapsed": false
   }
  },
  {
   "cell_type": "code",
   "execution_count": null,
   "outputs": [],
   "source": [
    "mark = input('请输入成绩（0~100）?')\n",
    "assert 0 <= float(mark) <= 100\n",
    "print('及格了') if float(mark) >= 60 else print('不及格')"
   ],
   "metadata": {
    "collapsed": false
   }
  },
  {
   "cell_type": "markdown",
   "source": [
    "Python中可变对象与不可变对象代码测试（通过代码自动判读对象是否可以改变）。"
   ],
   "metadata": {
    "collapsed": false
   }
  },
  {
   "cell_type": "code",
   "execution_count": null,
   "outputs": [],
   "source": [
    "a=[1,2,'hello']\n",
    "b=set('hello')\n",
    "c=dict(one=11, two=22, three=33)\n",
    "d=bytearray('hello',encoding='utf-8')\n",
    "e=(1,2,'hello')\n",
    "f=range(1,6,2)\n",
    "g='hello'\n",
    "h=bytes('hello',encoding='utf-8')\n",
    "i=memoryview(b'hello')\n",
    "j=frozenset('hello')\n"
   ],
   "metadata": {
    "collapsed": false
   }
  },
  {
   "cell_type": "code",
   "execution_count": null,
   "outputs": [],
   "source": [
    "test=[a,b,c,d,e,f,g,h,i,j]\n",
    "for i in test:\n",
    "    try:\n",
    "        hash(i)\n",
    "        print(f'{type(i)} 是不可变对象')\n",
    "    except:\n",
    "        print(f'{type(i)} 是可变对象')"
   ],
   "metadata": {
    "collapsed": false
   }
  },
  {
   "cell_type": "code",
   "execution_count": null,
   "outputs": [],
   "source": [
    "test=[a,b,c,d,e,f,g,h,i,j]\n",
    "results={}\n",
    "for i in test:\n",
    "    try:\n",
    "        hash(i)\n",
    "        results[type(i)]='不可变对象'\n",
    "        print(f'{type(i)} 是不可变对象')\n",
    "    except:\n",
    "        results[type(i)]='可变对象'\n",
    "        print(f'{type(i)} 是可变对象')\n",
    "print(results)"
   ],
   "metadata": {
    "collapsed": false
   }
  },
  {
   "cell_type": "code",
   "execution_count": null,
   "outputs": [],
   "source": [
    "print(results)"
   ],
   "metadata": {
    "collapsed": false
   }
  },
  {
   "cell_type": "code",
   "execution_count": null,
   "outputs": [],
   "source": [],
   "metadata": {
    "collapsed": false
   }
  }
 ],
 "metadata": {
  "kernelspec": {
   "display_name": "Python 3",
   "language": "python",
   "name": "python3"
  },
  "language_info": {
   "codemirror_mode": {
    "name": "ipython",
    "version": 2
   },
   "file_extension": ".py",
   "mimetype": "text/x-python",
   "name": "python",
   "nbconvert_exporter": "python",
   "pygments_lexer": "ipython2",
   "version": "2.7.6"
  }
 },
 "nbformat": 4,
 "nbformat_minor": 0
}
