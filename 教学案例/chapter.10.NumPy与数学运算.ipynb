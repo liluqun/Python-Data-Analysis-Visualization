{
 "cells": [
  {
   "cell_type": "code",
   "execution_count": null,
   "outputs": [],
   "source": [
    "import numpy as np\n",
    "a=np.array(range(3))\n",
    "print(f'{a=},{type(a)=}')\n",
    "b=np.asarray(range(6))\n",
    "print(f'{b=},{type(b)=}')\n",
    "c=np.array([range(3),range(5,8)])\n",
    "print(f'{c=},{type(c)=}')\n"
   ],
   "metadata": {
    "collapsed": false
   }
  },
  {
   "cell_type": "code",
   "execution_count": null,
   "outputs": [],
   "source": [
    "d=np.ones((2,3))\n",
    "print(f'{d=},{type(d)=}')\n",
    "e=np.zeros((1,3))\n",
    "print(f'{e=},{type(e)=}')\n"
   ],
   "metadata": {
    "collapsed": false
   }
  },
  {
   "cell_type": "code",
   "execution_count": null,
   "outputs": [],
   "source": [
    "import numpy as np\n",
    "print(f'{np.arange(3)=}')\n",
    "print(f'{np.arange(2,9,2)=}')\n"
   ],
   "metadata": {
    "collapsed": false
   }
  },
  {
   "cell_type": "code",
   "execution_count": null,
   "outputs": [],
   "source": [
    "print(f'{np.linspace(3, 6,3, endpoint =True)=}')"
   ],
   "metadata": {
    "collapsed": false
   }
  },
  {
   "cell_type": "code",
   "execution_count": null,
   "outputs": [],
   "source": [
    "print(f'{np.logspace(1.2,3,3,base=2)=}')"
   ],
   "metadata": {
    "collapsed": false
   }
  },
  {
   "cell_type": "code",
   "execution_count": null,
   "outputs": [],
   "source": [
    "print(f'{np.random.uniform(49.5, 99.5)=}')"
   ],
   "metadata": {
    "collapsed": false
   }
  },
  {
   "cell_type": "code",
   "execution_count": null,
   "outputs": [],
   "source": [
    "print(f'{np.random.uniform(75.5, 125.5, size=(2, 2))=}')"
   ],
   "metadata": {
    "collapsed": false
   }
  },
  {
   "cell_type": "code",
   "execution_count": null,
   "outputs": [],
   "source": [
    "print(f'{np.random.rand(2,3)=}')"
   ],
   "metadata": {
    "collapsed": false
   }
  },
  {
   "cell_type": "code",
   "execution_count": null,
   "outputs": [],
   "source": [
    "import array as arr\n",
    " # creating an array with integer type\n",
    "a = arr.array('i', [1, 2, 3])\n",
    " # printing original array\n",
    "print (\"The new created array is : \",a, end =\" \")\n",
    "print(f\"{arr.array('i', [1, 2, 3])=}\")"
   ],
   "metadata": {
    "collapsed": false
   }
  },
  {
   "cell_type": "code",
   "execution_count": null,
   "outputs": [],
   "source": [
    "print(f\"{np.array(range(3))=}\")"
   ],
   "metadata": {
    "collapsed": false
   }
  },
  {
   "cell_type": "code",
   "execution_count": null,
   "outputs": [],
   "source": [
    "print(f\"{np.random.rand(2,2)=}\")\n",
    "np.save('ok',a)\n",
    "b=np.load('ok.npy')\n",
    "a==b"
   ],
   "metadata": {
    "collapsed": false
   }
  },
  {
   "cell_type": "code",
   "execution_count": null,
   "outputs": [],
   "source": [
    "import numpy as np\n",
    "\n",
    "a = np.array([[1,2,3],[4,5,6]])\n",
    "b = np.arange(0, 1.0, 0.1)\n",
    "c =a*a\n",
    "np.savez(\"ok3.npz\", a, b, ok = c)\n",
    "r = np.load(\"ok3.npz\")\n",
    "print(r.files) # 查看各个数组名称\n",
    "print(r[\"arr_0\"]) # 数组 a\n",
    "print(r[\"arr_1\"]) # 数组 b\n",
    "print(r[\"ok\"]) # 数组 c"
   ],
   "metadata": {
    "collapsed": false
   }
  },
  {
   "cell_type": "code",
   "execution_count": null,
   "outputs": [],
   "source": [
    "a=np.random.uniform(2,6,(2,2))\n",
    "print(a)\n",
    "np.savetxt('ok.txt',a,fmt='%f',delimiter=',')\n",
    "b=np.loadtxt('ok.txt',dtype=float,delimiter=',')\n",
    "print(b)"
   ],
   "metadata": {
    "collapsed": false
   }
  },
  {
   "cell_type": "code",
   "execution_count": null,
   "outputs": [],
   "source": [
    "a=np.arange(1,10)\n",
    "print(f'{np.arange(1,10)=}')\n",
    "print(f'{a.reshape(3,3)=}')\n",
    "print(f'{a.flatten()=}')\n",
    "print(f'{a.ravel()=}')"
   ],
   "metadata": {
    "collapsed": false
   }
  },
  {
   "cell_type": "code",
   "execution_count": null,
   "outputs": [],
   "source": [
    "a.resize((4,4),refcheck=False)"
   ],
   "metadata": {
    "collapsed": false
   }
  },
  {
   "cell_type": "code",
   "execution_count": null,
   "outputs": [],
   "source": [
    "a"
   ],
   "metadata": {
    "collapsed": false
   }
  },
  {
   "cell_type": "code",
   "execution_count": null,
   "outputs": [],
   "source": [
    "a=np.arange(6)\n",
    "b=np.expand_dims(a,axis=0)\n",
    "c=np.expand_dims(a,axis=1)\n",
    "print(a)\n",
    "print(b)\n",
    "print(c)"
   ],
   "metadata": {
    "collapsed": false
   }
  },
  {
   "cell_type": "code",
   "execution_count": null,
   "outputs": [],
   "source": [
    "np.squeeze(b)\n"
   ],
   "metadata": {
    "collapsed": false
   }
  },
  {
   "cell_type": "code",
   "execution_count": null,
   "outputs": [],
   "source": [
    "np.squeeze(c)"
   ],
   "metadata": {
    "collapsed": false
   }
  },
  {
   "cell_type": "code",
   "execution_count": null,
   "outputs": [],
   "source": [
    "import numpy as np\n",
    "a = np.array([[1,2],[3,4]])\n",
    "b = np.array([[5,6],[7,8]])\n",
    "\n",
    "c=np.concatenate((a,b),axis=0)\n",
    "d=np.concatenate((a,b),axis=1)\n",
    "print(a,b,c,d)"
   ],
   "metadata": {
    "collapsed": false
   }
  },
  {
   "cell_type": "code",
   "execution_count": null,
   "outputs": [],
   "source": [
    "np.stack((a,b),0)"
   ],
   "metadata": {
    "collapsed": false
   }
  },
  {
   "cell_type": "code",
   "execution_count": null,
   "outputs": [],
   "source": [
    "\n",
    "np.stack((a,b),1)\n"
   ],
   "metadata": {
    "collapsed": false
   }
  },
  {
   "cell_type": "code",
   "execution_count": null,
   "outputs": [],
   "source": [
    "a = np.array([[1,2,3],[4,5,6]])\n",
    "np.append(a, [7,8,9])\n"
   ],
   "metadata": {
    "collapsed": false
   }
  },
  {
   "cell_type": "code",
   "execution_count": null,
   "outputs": [],
   "source": [
    "np.append(a, [[7,8,9]],axis = 0)\n"
   ],
   "metadata": {
    "collapsed": false
   }
  },
  {
   "cell_type": "code",
   "execution_count": null,
   "outputs": [],
   "source": [
    "np.append(a, [[5,5,5],[7,8,9]],axis = 1)"
   ],
   "metadata": {
    "collapsed": false
   }
  },
  {
   "cell_type": "code",
   "execution_count": null,
   "outputs": [],
   "source": [
    "np.insert(a,3,[11,12])"
   ],
   "metadata": {
    "collapsed": false
   }
  },
  {
   "cell_type": "code",
   "execution_count": null,
   "outputs": [],
   "source": [
    "np.insert(a,1,[11],axis = 0)"
   ],
   "metadata": {
    "collapsed": false
   }
  },
  {
   "cell_type": "code",
   "execution_count": null,
   "outputs": [],
   "source": [
    "np.insert(a,1,11,axis = 1)"
   ],
   "metadata": {
    "collapsed": false
   }
  },
  {
   "cell_type": "code",
   "execution_count": null,
   "outputs": [],
   "source": [
    "np.broadcast_to(3,(3,3))"
   ],
   "metadata": {
    "collapsed": false
   }
  },
  {
   "cell_type": "code",
   "execution_count": null,
   "outputs": [],
   "source": [
    "np.unique(b,return_index = True)"
   ],
   "metadata": {
    "collapsed": false
   }
  },
  {
   "cell_type": "code",
   "execution_count": null,
   "outputs": [],
   "source": [
    "import numpy as np\n",
    "a = np.arange(6).reshape(2,3)\n",
    "\n",
    "for x in np.nditer(a):\n",
    "\tprint (x, end=\", \" )\n",
    "\n",
    "for x in np.nditer(a,order=\"F\"):\n",
    "\tprint(x,end=',')\n",
    "\n",
    "for row in a:\n",
    "\tprint(row)\n"
   ],
   "metadata": {
    "collapsed": false
   }
  },
  {
   "cell_type": "code",
   "execution_count": null,
   "outputs": [],
   "source": [
    "for i in a.flat:\n",
    "\tprint(i,end=',')"
   ],
   "metadata": {
    "collapsed": false
   }
  },
  {
   "cell_type": "code",
   "execution_count": null,
   "outputs": [],
   "source": [
    "a=np.arange(6)\n",
    "np.amin(a)\n",
    "np.amax(a)\n",
    "np.ptp(a)\n",
    "np.percentile(a,60)\n",
    "np.mean(a)\n",
    "np.std(a)\n",
    "np.var(a)\n"
   ],
   "metadata": {
    "collapsed": false
   }
  },
  {
   "cell_type": "code",
   "execution_count": null,
   "outputs": [],
   "source": [
    "import numpy as np\n",
    "aa=np.random.uniform(1,5,(2,3))\n",
    "np.sort(aa)\n",
    "np.argmax(aa)\n",
    "np.argmin(aa)\n",
    "np.where(aa>2.5)\n",
    "np.extract(aa>2.5,aa)"
   ],
   "metadata": {
    "collapsed": false
   }
  },
  {
   "cell_type": "code",
   "execution_count": null,
   "outputs": [],
   "source": [],
   "metadata": {
    "collapsed": false
   }
  }
 ],
 "metadata": {
  "kernelspec": {
   "display_name": "Python 3",
   "language": "python",
   "name": "python3"
  },
  "language_info": {
   "codemirror_mode": {
    "name": "ipython",
    "version": 2
   },
   "file_extension": ".py",
   "mimetype": "text/x-python",
   "name": "python",
   "nbconvert_exporter": "python",
   "pygments_lexer": "ipython2",
   "version": "2.7.6"
  }
 },
 "nbformat": 4,
 "nbformat_minor": 0
}
