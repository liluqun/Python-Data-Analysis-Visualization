{
 "cells": [
  {
   "cell_type": "code",
   "execution_count": null,
   "outputs": [],
   "source": [
    "def func_demo(r):\n",
    "    '''\n",
    "    此函数输入参数为圆的半径r，返回值为圆的周长和面积\n",
    "    '''\n",
    "    pi = 3.14\n",
    "    p,a = 2 * pi * r,pi * r * r\n",
    "\n",
    "    return p, a\n",
    "r = 9\n",
    "print(help(func_demo))\n",
    "print(func_demo.__doc__)\n"
   ],
   "metadata": {
    "collapsed": false
   }
  },
  {
   "cell_type": "code",
   "execution_count": null,
   "outputs": [],
   "source": [
    "def print_info(name, a, b):\n",
    "    print(name+'-'*30)\n",
    "    print(f'{id(a)=},{a=};{id(b)=},{b=}' )\n",
    "\n",
    "def demo(a, b):\n",
    "    a = a + 20\n",
    "    b.append(99)\n",
    "    print_info('函数体内',a, b)\n",
    "if __name__ == '__main__':\n",
    "    a, *b = list(range(1, 6))\n",
    "    print_info('初始状态：',a, b)\n",
    "    demo(a, b)\n",
    "    print_info('结束状态：', a, b)"
   ],
   "metadata": {
    "collapsed": false
   }
  },
  {
   "cell_type": "code",
   "execution_count": null,
   "outputs": [],
   "source": [
    "def repeat(msg, times=1):\n",
    "    print(msg * times)\n",
    "repeat('Hello')\n",
    "repeat('World ', 5)"
   ],
   "metadata": {
    "collapsed": false
   }
  },
  {
   "cell_type": "code",
   "execution_count": null,
   "outputs": [],
   "source": [
    "def fun(x, y, z=1):\n",
    "    print(x, y, z)\n",
    "fun( 1,y=2,z=3)\n",
    "fun(z=3,y=2,x=1)"
   ],
   "metadata": {
    "collapsed": false
   }
  },
  {
   "cell_type": "code",
   "execution_count": null,
   "outputs": [],
   "source": [
    "def fun(x,*xx,y=21,z=2, **yy):\n",
    "    print(locals())\n",
    "fun(1,2,4, z=88, y=99, k1=0,g=33)"
   ],
   "metadata": {
    "collapsed": false
   }
  },
  {
   "cell_type": "code",
   "execution_count": null,
   "outputs": [],
   "source": [
    "def func(x):\n",
    "    print(f'{x=}')\n",
    "    x = 2\n",
    "    print(f'函数体内：{id(x)=}')\n",
    "    print(f'局部变量x： {x=}')\n",
    "if __name__=='__main__':\n",
    "    x = 50\n",
    "    print(f'调用前：{id(x)=}')\n",
    "    func(x)\n",
    "    print(f'调用{func.__name__}后：{id(x)=}')\n",
    "    print(f'x的值： {x=}')"
   ],
   "metadata": {
    "collapsed": false
   }
  },
  {
   "cell_type": "code",
   "execution_count": null,
   "outputs": [],
   "source": [
    "def func(x):\n",
    "    global gx\n",
    "    print(f'{x=}')\n",
    "    gx = 2\n",
    "    print(f'函数体内：{id(gx)=}, {id(x)=}')\n",
    "    print(f'局部变量x： {x=}')\n",
    "if __name__=='__main__':\n",
    "    gx = 50\n",
    "    print(f'调用前：{id(gx)=}')\n",
    "    func(gx)\n",
    "    print(f'调用{func.__name__}后：{id(gx)=}')\n",
    "    print(f'x的值： {gx=}')\n"
   ],
   "metadata": {
    "collapsed": false
   }
  },
  {
   "cell_type": "code",
   "execution_count": null,
   "outputs": [],
   "source": [
    "def inspect():\n",
    "    lx = 300\n",
    "    ly = 400\n",
    "    locals()['l'] = 'l-自设局部变量'\n",
    "    print(f'函数体内：{locals()=},总共有{len(locals())}个局部变量')\n",
    "    print(f'函数体内：{globals()=}，总共有:{len(globals())}全局变量')\n",
    "    print(f'函数体内：{vars()=}，总共有:{len(vars())}个变量')\n",
    "\n",
    "\n",
    "if __name__ == '__main__':\n",
    "    x, y = 100, 200\n",
    "    inspect()\n",
    "    globals()['g'] = 'g-自设全局变量'\n",
    "    vars()['v'] = 'v-自设变量'\n",
    "    locals()['gl'] = 'gl-自设局部变量'\n",
    "\n",
    "    print(f'{locals()=},总共有{len(locals())}个局部变量')\n",
    "    print(f'{globals()=}，总共有:{len(globals())}全局变量')\n",
    "    print(f'{vars()=}，总共有:{len(vars())}个变量')\n",
    "    print(f'测试globals()与vars()是否相同：{globals() == vars()}')\n",
    "    print(f'测试globals()与locals()是否相同：{globals() == locals()}')"
   ],
   "metadata": {
    "collapsed": false
   }
  },
  {
   "cell_type": "code",
   "execution_count": null,
   "outputs": [],
   "source": [
    "def outer():\n",
    "    x = 119\n",
    "    def inter():\n",
    "        x = 114\n",
    "    inter()\n",
    "    print(x)\n",
    "\n",
    "outer()\n"
   ],
   "metadata": {
    "collapsed": false
   }
  },
  {
   "cell_type": "code",
   "execution_count": null,
   "outputs": [],
   "source": [
    "def outer():\n",
    "    x = 119\n",
    "    def inter():\n",
    "        nonlocal x\n",
    "        x = 114\n",
    "    inter()\n",
    "    print(x)\n",
    "outer()\n"
   ],
   "metadata": {
    "collapsed": false
   }
  },
  {
   "cell_type": "code",
   "execution_count": null,
   "outputs": [],
   "source": [
    "x = 120\n",
    "def outer():\n",
    "    # x = 119\n",
    "    def inter():\n",
    "        nonlocal x\n",
    "        x = 114\n",
    "    inter()\n",
    "    print(x)\n",
    "outer()"
   ],
   "metadata": {
    "collapsed": false
   }
  },
  {
   "cell_type": "code",
   "execution_count": null,
   "outputs": [],
   "source": [
    "x,y=2,3\n",
    "f=lambda x,y:x*x+y*y\n",
    "g=lambda : 39\n",
    "print(f(x,y))\n",
    "print(g())"
   ],
   "metadata": {
    "collapsed": false
   }
  },
  {
   "cell_type": "code",
   "execution_count": null,
   "outputs": [],
   "source": [
    "a= (x*x for x in range(10) if 3<x<6)\n",
    "b=[x*x for x in range(10) if x%2==0]\n",
    "c={x*x for x in range(10) if x%3==0 }\n",
    "print(*a,b,c)"
   ],
   "metadata": {
    "collapsed": false
   }
  },
  {
   "cell_type": "code",
   "execution_count": null,
   "outputs": [],
   "source": [
    "dic = {'a':'b','c':'d'}\n",
    "dic1 = {'hello '+dic[i]:i+' world' for i in dic}\n",
    "print(dic1)\n",
    "print([k+v for (k,v) in dic.items()])"
   ],
   "metadata": {
    "collapsed": false
   }
  },
  {
   "cell_type": "code",
   "execution_count": null,
   "outputs": [],
   "source": [
    "names = [[\"张三\",\"李四\",\"王五\",\"赵六\"],\n",
    "         [\"张无忌\",\"李世民\",\"李鸿章\",\"赵匡胤\"]]\n",
    "la = lambda x: [n for f in names for n in f if x in n]\n",
    "print(la('李'), la('赵'))"
   ],
   "metadata": {
    "collapsed": false
   }
  },
  {
   "cell_type": "code",
   "execution_count": null,
   "outputs": [],
   "source": [
    "x=filter(lambda x: x>'c','bcdef')\n",
    "z=filter(lambda x: 5< x<10,range(1,100))\n",
    "show=lambda x,t: print(f'{type(x)=},{x=},{t(x)=}')\n",
    "show(x,list)\n",
    "show(z,tuple)"
   ],
   "metadata": {
    "collapsed": false
   }
  },
  {
   "cell_type": "code",
   "execution_count": null,
   "outputs": [],
   "source": [
    "ps,qm=[30,89,90],[69,59,89]\n",
    "zp=map(lambda x,y:0.3*x+0.7*y,ps,qm)\n",
    "print(f'{type(zp)=},{zp=},{list(zp)}')"
   ],
   "metadata": {
    "collapsed": false
   }
  },
  {
   "cell_type": "code",
   "execution_count": null,
   "outputs": [],
   "source": [
    "from functools import reduce\n",
    "def add(x,y):\n",
    "    return x+y\n",
    "print (reduce(add,[1,2,3,4,5]))\n",
    "print (reduce(add,(1,2,3,4,5),100))\n",
    "print (reduce(add,{1,2,3,4,5},-10))\n",
    "print(reduce(lambda x,y:x+y,range(1,100)))\n",
    "print(reduce(add,[[2,3],[5,9],[3,4,5]],[]))"
   ],
   "metadata": {
    "collapsed": false
   }
  },
  {
   "cell_type": "code",
   "execution_count": null,
   "outputs": [],
   "source": [
    "import time\n",
    "#计算时间函数\n",
    "def show_run_time(func):\n",
    "    def wrapper(*args, **kw):\n",
    "        start_time = time.time()\n",
    "        print(locals())\n",
    "        func(*args, **kw)\n",
    "        print(f'函数名： {func.__name__} 函数参数：{args=},{kw=} 运行时间： {time.time() - start_time}')\n",
    "    return wrapper"
   ],
   "metadata": {
    "collapsed": false
   }
  },
  {
   "cell_type": "code",
   "execution_count": null,
   "outputs": [],
   "source": [
    "@show_run_time\n",
    "def demo_func(n,name):\n",
    "    for i in range(n):\n",
    "        pass\n",
    "if __name__=='__main__':\n",
    "    demo_func(900000,name='装饰器demo')"
   ],
   "metadata": {
    "collapsed": false
   }
  },
  {
   "cell_type": "code",
   "execution_count": null,
   "outputs": [],
   "source": [
    "import random\n",
    "def walk():\n",
    "    start = 0\n",
    "    def step():\n",
    "        end=random.randint(1,100)\n",
    "        nonlocal start\n",
    "        print(f'I walk from {start=} to {end=}')\n",
    "        start = end\n",
    "    return step\n",
    "\n",
    "t=walk()\n",
    "t()\n",
    "t()\n",
    "t()"
   ],
   "metadata": {
    "collapsed": false
   }
  },
  {
   "cell_type": "code",
   "execution_count": null,
   "outputs": [],
   "source": [
    "def outfunc(x):\n",
    "    y = 10\n",
    "    def infunc(z):\n",
    "        c = x + y + z\n",
    "        return c\n",
    "    return infunc\n",
    "a = 90\n",
    "print(f'{a=},{outfunc(a)=}')\n",
    "print(f'{outfunc(a).__name__=}')\n",
    "print(f'{outfunc(a)(5)=}')\n",
    "print(f'{outfunc(a)(6)=}')"
   ],
   "metadata": {
    "collapsed": false
   }
  },
  {
   "cell_type": "code",
   "execution_count": null,
   "outputs": [],
   "source": [
    "def func():\n",
    "    name = '计数器'  # 常驻内存  防止其他程序改变这个变量\n",
    "    counter = 0\n",
    "    def inner():\n",
    "        nonlocal counter\n",
    "        counter += 1\n",
    "        print(f'{name} :No.{counter}')\n",
    "        # 内层函数调用外层函数的变量，叫闭包，可以让一个局部变量常驻内存\n",
    "    return inner\n",
    "ret = func()\n",
    "ret()\n",
    "ret()\n",
    "ret()\n",
    "print(f'{ret.__closure__=}')"
   ],
   "metadata": {
    "collapsed": false
   }
  },
  {
   "cell_type": "code",
   "execution_count": null,
   "outputs": [],
   "source": [
    "class MyIterator:\n",
    "    def __init__(self, start, end):\n",
    "        self.value = start\n",
    "        self.end = end\n",
    "\n",
    "    def __iter__(self):\n",
    "        return self\n",
    "\n",
    "    def __next__(self):\n",
    "        if self.value >= self.end:\n",
    "            raise StopIteration\n",
    "        current = self.value\n",
    "        self.value += 1\n",
    "        return current\n",
    "\n",
    "it1=MyIterator(1,100)\n",
    "for num in it1:\n",
    "    print(num)"
   ],
   "metadata": {
    "collapsed": false
   }
  },
  {
   "cell_type": "code",
   "execution_count": null,
   "outputs": [],
   "source": [
    "from collections.abc import Iterable, Iterator\n",
    "lst = list(range(5))\n",
    "a,b=isinstance(lst, Iterable), isinstance(lst, Iterator)\n",
    "#是可迭代对象, 但不是迭代器\n",
    "print(f'{lst=} Iterable:{a=},  Itertor:{b=}')\n",
    "iterator = iter(lst)  # 返回可迭代对象 lst 的迭代器\n",
    "aa,bb=isinstance(iterator, Iterable), isinstance(iterator, Iterator)\n",
    " # 既是可迭代对象, 也是迭代器\n",
    "print(f'{iterator= } --> Iterable:{aa=}, Itertor:{bb=}')"
   ],
   "metadata": {
    "collapsed": false
   }
  },
  {
   "cell_type": "code",
   "execution_count": null,
   "outputs": [],
   "source": [
    "def gen(content:str):\n",
    " for i in content.split():\n",
    "        yield i\n",
    "if __name__=='__main__':\n",
    "    for i in gen('this is only a test for generator!!'):\n",
    "        print(i)\n"
   ],
   "metadata": {
    "collapsed": false
   }
  },
  {
   "cell_type": "code",
   "execution_count": null,
   "outputs": [],
   "source": [
    "import math\n",
    "data = list(range(1, 40))\n",
    "def func(data,epoch=5):\n",
    "    batchSize = math.ceil(len(data) / epoch)\n",
    "    j = 0\n",
    "    for i in range(1, epoch + 1):\n",
    "        content = data[j:i * batchSize]\n",
    "        j = i * batchSize\n",
    "        yield content\n",
    "g = func(data)  # 获取生成器\n",
    "for i in g:\n",
    "    print(i)"
   ],
   "metadata": {
    "collapsed": false
   }
  },
  {
   "cell_type": "code",
   "execution_count": null,
   "outputs": [],
   "source": [
    "import math\n",
    "def func(data,epoch=5):\n",
    "    batchSize = math.ceil(len(data) / epoch)\n",
    "    j = 0\n",
    "    for i in range(1, epoch + 1):\n",
    "        content = data[j:i * batchSize]\n",
    "        j = i * batchSize\n",
    "        call_id=yield content\n",
    "        print(f'{call_id=},  got {content=} ')\n",
    "g = func(list(range(1,30)),8)\n",
    "print(f'{g.__next__()=}')\n",
    "ret2 = g.send(\"欧阳锋\")\n",
    "ret3 = g.send(\"洪七公\")\n",
    "ret4 = g.send(\"黄药师\")\n",
    "print(f'{g.__next__()=}')\n",
    "print(f'{g.__next__()=}')"
   ],
   "metadata": {
    "collapsed": false
   }
  },
  {
   "cell_type": "code",
   "execution_count": null,
   "outputs": [],
   "source": [
    "x = 1\n",
    "eval('x+1')\n",
    "\n"
   ],
   "metadata": {
    "collapsed": false
   }
  },
  {
   "cell_type": "code",
   "execution_count": null,
   "outputs": [],
   "source": [
    "eval('[2,3,4] [1]')"
   ],
   "metadata": {
    "collapsed": false
   }
  },
  {
   "cell_type": "code",
   "execution_count": null,
   "outputs": [],
   "source": [
    "x=100\n",
    "exec('x=x+12')\n",
    "print(x)\n",
    "exec('print(dir())')"
   ],
   "metadata": {
    "collapsed": false
   }
  },
  {
   "cell_type": "code",
   "execution_count": null,
   "outputs": [],
   "source": [],
   "metadata": {
    "collapsed": false
   }
  }
 ],
 "metadata": {
  "kernelspec": {
   "display_name": "Python 3",
   "language": "python",
   "name": "python3"
  },
  "language_info": {
   "codemirror_mode": {
    "name": "ipython",
    "version": 2
   },
   "file_extension": ".py",
   "mimetype": "text/x-python",
   "name": "python",
   "nbconvert_exporter": "python",
   "pygments_lexer": "ipython2",
   "version": "2.7.6"
  }
 },
 "nbformat": 4,
 "nbformat_minor": 0
}
