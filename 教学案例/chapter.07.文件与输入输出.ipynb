{
 "cells": [
  {
   "cell_type": "code",
   "execution_count": null,
   "metadata": {},
   "outputs": [],
   "source": [
    "import sys\n",
    "sys.stdin.read(10)"
   ]
  },
  {
   "cell_type": "code",
   "execution_count": null,
   "metadata": {},
   "outputs": [],
   "source": []
  },
  {
   "cell_type": "code",
   "execution_count": null,
   "metadata": {},
   "outputs": [],
   "source": [
    "sys.stdout.write('hello')\n",
    "sys.stderr.write('hello')"
   ]
  },
  {
   "cell_type": "code",
   "execution_count": null,
   "metadata": {},
   "outputs": [],
   "source": [
    "import sys\n",
    "old_out=sys.stdout\n",
    "f=open('help.txt','w')\n",
    "help(sys)\n"
   ]
  },
  {
   "cell_type": "code",
   "execution_count": null,
   "metadata": {},
   "outputs": [],
   "source": [
    "import contextlib, io\n",
    "f = open('out/record.txt','w+')\n",
    "with contextlib.redirect_stdout(f):\n",
    "    import this\n",
    "    f.close()\n",
    "print(open('out/record.txt').read())\n"
   ]
  },
  {
   "cell_type": "code",
   "execution_count": null,
   "metadata": {},
   "outputs": [],
   "source": [
    "print(contextlib)"
   ]
  },
  {
   "cell_type": "markdown",
   "metadata": {},
   "source": [
    "![file](img/img_7.png)"
   ]
  },
  {
   "cell_type": "code",
   "execution_count": null,
   "metadata": {},
   "outputs": [],
   "source": [
    "f=open('out/help-math.txt')\n",
    "print(f.read(100))"
   ]
  },
  {
   "cell_type": "code",
   "execution_count": null,
   "metadata": {},
   "outputs": [],
   "source": [
    "f = open(\"out/my_file.txt\", 'w')\n",
    "f.write(\"hello world\")\n",
    "#或可以直接将print()函数的输出定向为文件。\n",
    "print('hello world',file=open('out/ok.txt','w'))\n"
   ]
  },
  {
   "cell_type": "code",
   "execution_count": null,
   "metadata": {},
   "outputs": [],
   "source": [
    "f.close()"
   ]
  },
  {
   "cell_type": "code",
   "execution_count": null,
   "metadata": {},
   "outputs": [],
   "source": [
    "try:\n",
    "    f = open('out/help-math.txt')\n",
    "    print(f.read())\n",
    "except:\n",
    "  print(\"An exception occurred\")\n",
    "finally:\n",
    "    if f:\n",
    "        f.close()"
   ]
  },
  {
   "cell_type": "code",
   "execution_count": null,
   "metadata": {},
   "outputs": [],
   "source": [
    "with open('out/my_file.txt', 'a+', encoding='utf-8') as f:\n",
    "    f.write('test\\n\\hello world\\n')\n",
    "#文件读操作\n",
    "with open('out/my_file.txt', 'r', encoding='utf-8') as f:\n",
    "    print(f.readlines())"
   ]
  },
  {
   "cell_type": "code",
   "execution_count": null,
   "metadata": {},
   "outputs": [],
   "source": [
    "with open('out/demo.txt', 'w', encoding='utf-8') as f:\n",
    "    f.write(\"这里演示文件的创建！以及相关函数的使用和功能!!!\\n\" * 10)\n",
    "\n",
    "with open('out/demo.txt', 'r', encoding='utf-8') as f:\n",
    "    print(f'文件读位置:{f.tell()=}')\n",
    "    print(f.read(10))\n",
    "    f.seek(6)\n",
    "    print(f'文件读位置::{f.tell()=}')\n",
    "    print(f.read())\n",
    "\n",
    "with open('out/demo.txt', 'a+', encoding='utf-8') as f:\n",
    "    f.write(\"hello world!!!\\n\")\n",
    "\n",
    "with open('out/demo.txt', encoding='utf-8') as f:\n",
    "    print(f.read())\n"
   ]
  },
  {
   "cell_type": "code",
   "execution_count": null,
   "metadata": {},
   "outputs": [],
   "source": [
    "import shelve\n",
    "#（1）\t保存数据。\n",
    "with shelve.open('test_shelf') as w:        #\n",
    "    w['abc'] = {'age': 10, 'float': 9.5, 'String': 'china'}\n",
    "    w['efg'] = [1, 2, 3]\n",
    "#（2）\t查找数据。\n",
    "with shelve.open('test_shelf') as r:        #\n",
    "    print(r['abc'])\n",
    "    print(r['efg'])\n",
    "#（3）\t删除、插入、更新数据。\n",
    "with shelve.open('test_shelf', flag='w', writeback=True) as dm:\n",
    "    del dm['abc']\n",
    "    dm['gre'] = [99879, 2, 3]\n",
    "    dm['efg'] = \"thi is a test\".split()\n",
    "#（4）\t遍历数据。\n",
    "with shelve.open('test_shelf') as s:\n",
    "    for key, value in s.items():\n",
    "        print(key, value)\n"
   ]
  },
  {
   "cell_type": "code",
   "execution_count": null,
   "metadata": {},
   "outputs": [],
   "source": [
    "import pickle\n",
    "tup1 = ('Success@shnu.edu.cn!!', {1,2,3}, True)\n",
    "#使用 dumps() 函数将 tup1 转成 p1\n",
    "p1 = pickle.dumps(tup1)\n",
    "def hi(name):\n",
    "    print('hello'+name)\n",
    "\n",
    "#使用 dumps() 函数将 函数hi 转成 p2\n",
    "p2 = pickle.dumps(hi)\n",
    "print(p1)\n",
    "print(p2)"
   ]
  },
  {
   "cell_type": "code",
   "execution_count": null,
   "metadata": {},
   "outputs": [],
   "source": [
    "import pickle\n",
    "tup1 = ('Success@shnu.edu.cn!!', {1,2,3}, True)\n",
    "#使用 dumps() 函数将 tup1 转成 p1\n",
    "p1 = pickle.dumps(tup1)\n",
    "def hi(name):\n",
    "    print('hello'+name)\n",
    "\n",
    "#使用 dumps() 函数将 函数hi 转成 p2\n",
    "p2 = pickle.dumps(hi)\n",
    "print(p1)\n",
    "print(p2)\n",
    "t1=pickle.loads(p1)\n",
    "t2 = pickle.loads(p2)"
   ]
  },
  {
   "cell_type": "code",
   "execution_count": null,
   "metadata": {},
   "outputs": [],
   "source": [
    "import pickle\n",
    "tup1 = ('Success@shnu.edu.cn!!', {1,2,3}, True)\n",
    "def hi(name):\n",
    "    print('hello'+name)\n",
    "with open (\"out/a.txt\", 'wb') as f: #打开文件\n",
    "    #使用 dumps() 函数将 tup1 转成 p1\n",
    "    p1 = pickle.dump(tup1,f)\n",
    "    #使用 dumps() 函数将 函数hi 转成 p2\n",
    "    p2 = pickle.dump(hi,f)\n",
    "    pickle.dump(tup1, f)"
   ]
  },
  {
   "cell_type": "code",
   "execution_count": null,
   "metadata": {},
   "outputs": [],
   "source": [
    "import pickle\n",
    "tup1 = ('Success@shnu.edu.cn!!', {1,2,3}, True)\n",
    "def hi(name):\n",
    "    print('hello'+name)\n",
    "with open (\"out/a.txt\", 'wb') as f: #打开文件\n",
    "    #使用 dumps() 函数将 tup1 转成 p1\n",
    "    p1 = pickle.dump(tup1,f)\n",
    "    #使用 dumps() 函数将 函数hi 转成 p2\n",
    "    p2 = pickle.dump(hi,f)\n",
    "with open (\"out/a.txt\", 'rb') as f: #打开文件\n",
    "    t3 = pickle.load(f) #将二进制文件对象转换成 Python 对象\n",
    "    t4=pickle.load(f)\n",
    "    print(t3)\n",
    "    t4(' from China!!')\n",
    "print(t3)\n"
   ]
  },
  {
   "cell_type": "code",
   "execution_count": null,
   "metadata": {},
   "outputs": [],
   "source": [
    "import json\n",
    "# Python 对象（字典）：\n",
    "x = {\n",
    "  \"name\": \"zhang\",\n",
    "  \"age\": 33,\n",
    "  \"city\": \"shanghai\"\n",
    "}\n",
    "# 转换为 JSON：\n",
    "y = json.dumps(x)\n",
    "print(type(y))\n",
    "print(y)"
   ]
  },
  {
   "cell_type": "code",
   "execution_count": null,
   "metadata": {},
   "outputs": [],
   "source": [
    "import json\n",
    "\n",
    "# 一些 JSON:\n",
    "x =  '{ \"name\":\"zhang\", \"age\":33, \"city\":\"shanghai\"}'\n",
    "\n",
    "# 解析 x:\n",
    "y = json.loads(x)\n",
    "print(type(y))\n",
    "print(y)"
   ]
  },
  {
   "cell_type": "code",
   "execution_count": null,
   "metadata": {},
   "outputs": [],
   "source": [
    "import json\n",
    "\n",
    "# Python 对象（字典）：\n",
    "x = {\n",
    "  \"name\": \"zhang\",\n",
    "  \"age\": 33,\n",
    "  \"city\": \"shanghai\"\n",
    "}\n",
    "\n",
    "with open(\"record.json\",\"w\") as dump_f:\n",
    "    json.dump(x,dump_f)"
   ]
  },
  {
   "cell_type": "code",
   "execution_count": null,
   "metadata": {},
   "outputs": [],
   "source": [
    "import json\n",
    "with open(\"record.json\",'r') as load_f:\n",
    "    load_dict = json.load(load_f)\n",
    "    print(type(load_dict))\n",
    "    print(load_dict)"
   ]
  },
  {
   "cell_type": "code",
   "execution_count": null,
   "metadata": {},
   "outputs": [],
   "source": [
    "import os\n",
    "for dirpath, dirname, files in os.walk('.'):\n",
    "    print(f'Found directory: {dirpath}')\n",
    "    for file_name in files:\n",
    "        print(file_name)\n"
   ]
  },
  {
   "cell_type": "code",
   "execution_count": null,
   "metadata": {},
   "outputs": [],
   "source": []
  }
 ],
 "metadata": {
  "kernelspec": {
   "display_name": "Python 3 (ipykernel)",
   "language": "python",
   "name": "python3"
  },
  "language_info": {
   "codemirror_mode": {
    "name": "ipython",
    "version": 3
   },
   "file_extension": ".py",
   "mimetype": "text/x-python",
   "name": "python",
   "nbconvert_exporter": "python",
   "pygments_lexer": "ipython3",
   "version": "3.10.4"
  }
 },
 "nbformat": 4,
 "nbformat_minor": 1
}
